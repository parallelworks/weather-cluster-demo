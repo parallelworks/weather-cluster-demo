{
 "cells": [
  {
   "cell_type": "markdown",
   "metadata": {},
   "source": [
    "# Plot results from weather-forecast-demo multi-cloud runs\n",
    "This simple plotting notebook stores and plots results from multi-cloud runs of the weather-forecast-demo intermediate-size weather model benchmark.\n",
    "\n",
    "## Data"
   ]
  },
  {
   "cell_type": "code",
   "execution_count": 11,
   "metadata": {},
   "outputs": [],
   "source": [
    "import matplotlib.pyplot as plt\n",
    "import numpy as np\n",
    "import pandas as pd\n",
    "\n",
    "# Input data\n",
    "cloud_runs_mins_no_lustre = [4.98, 5.42, 4.98, 6.28, 5.33]\n",
    "cloud_runs_mins_w_lustre = [np.nan, np.nan]\n",
    "on_prem_mins_no_lustre = [4.94, 4.98]\n",
    "aws_pub_mins_w_lustre = [4.28]"
   ]
  },
  {
   "cell_type": "markdown",
   "metadata": {},
   "source": [
    "## Results"
   ]
  },
  {
   "cell_type": "code",
   "execution_count": 30,
   "metadata": {
    "scrolled": false
   },
   "outputs": [
    {
     "name": "stderr",
     "output_type": "stream",
     "text": [
      "/opt/conda/lib/python3.7/site-packages/matplotlib/cbook/__init__.py:1239: RuntimeWarning: invalid value encountered in less_equal\n",
      "  wiskhi = x[x <= hival]\n",
      "/opt/conda/lib/python3.7/site-packages/matplotlib/cbook/__init__.py:1246: RuntimeWarning: invalid value encountered in greater_equal\n",
      "  wisklo = x[x >= loval]\n",
      "/opt/conda/lib/python3.7/site-packages/matplotlib/cbook/__init__.py:1254: RuntimeWarning: invalid value encountered in less\n",
      "  x[x < stats['whislo']],\n",
      "/opt/conda/lib/python3.7/site-packages/matplotlib/cbook/__init__.py:1255: RuntimeWarning: invalid value encountered in greater\n",
      "  x[x > stats['whishi']],\n"
     ]
    },
    {
     "data": {
      "image/png": "[encoded data removed]",
      "text/plain": [
       "<Figure size 432x288 with 1 Axes>"
      ]
     },
     "metadata": {
      "needs_background": "light"
     },
     "output_type": "display_data"
    }
   ],
   "source": [
    "# Box formatting suggestions from: https://matplotlib.org/stable/gallery/statistics/boxplot.html\n",
    "flierprops = dict(\n",
    "    marker='o', \n",
    "    markerfacecolor='green', \n",
    "    markersize=12,\n",
    "    markeredgecolor='none')\n",
    "\n",
    "medianlineprops = dict(\n",
    "    linestyle='-',\n",
    "    linewidth=5, \n",
    "    color='red')\n",
    "\n",
    "boxprops = dict(\n",
    "    linestyle='-',\n",
    "    linewidth=5,\n",
    "    color='black')\n",
    "\n",
    "# Plot run times\n",
    "fig, ax = plt.subplots()\n",
    "ax.boxplot([\n",
    "    cloud_runs_mins_no_lustre,\n",
    "    cloud_runs_mins_w_lustre,\n",
    "    on_prem_mins_no_lustre,\n",
    "    aws_pub_mins_w_lustre],\n",
    "    boxprops=boxprops,\n",
    "    flierprops=flierprops,\n",
    "    medianprops=medianlineprops,\n",
    "    whis=(0, 100)\n",
    "    )\n",
    "ax.set_ylabel('Run time (minutes)')\n",
    "ax.grid()"
   ]
  },
  {
   "cell_type": "code",
   "execution_count": null,
   "metadata": {},
   "outputs": [],
   "source": []
  }
 ],
 "metadata": {
  "kernelspec": {
   "display_name": "Python 3",
   "language": "python",
   "name": "python3"
  },
  "language_info": {
   "codemirror_mode": {
    "name": "ipython",
    "version": 3
   },
   "file_extension": ".py",
   "mimetype": "text/x-python",
   "name": "python",
   "nbconvert_exporter": "python",
   "pygments_lexer": "ipython3",
   "version": "3.7.6"
  }
 },
 "nbformat": 4,
 "nbformat_minor": 2
}
